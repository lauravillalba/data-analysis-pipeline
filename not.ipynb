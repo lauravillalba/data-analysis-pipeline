{
 "cells": [
  {
   "cell_type": "markdown",
   "metadata": {},
   "source": [
    "# Pipelines_project"
   ]
  },
  {
   "cell_type": "code",
   "execution_count": 1,
   "metadata": {},
   "outputs": [],
   "source": [
    "import pandas as pd\n",
    "import json\n",
    "import requests\n",
    "import src.functions as fn\n",
    "import src.grafics as gr\n",
    "from bs4 import BeautifulSoup\n",
    "import matplotlib.pyplot as plt\n",
    "from matplotlib import colors"
   ]
  },
  {
   "cell_type": "markdown",
   "metadata": {},
   "source": [
    "Importo el dataset encontrado en Kaggle \"Suicide Rates Overview 1985 to 2016\"."
   ]
  },
  {
   "cell_type": "code",
   "execution_count": 2,
   "metadata": {},
   "outputs": [],
   "source": [
    "df=fn.importa('./input/master.csv')"
   ]
  },
  {
   "cell_type": "markdown",
   "metadata": {},
   "source": [
    "Para completar la información haré scrapping para traer de Wikipedia las capitales de cada país y el número de horas de sol al mes.\n",
    "\n",
    "Creo la lista de diccionarios llamando a la función \"dictHours()\", que a su vez llama a \"sunnyHours()\" para luego poder generar el dataframe. En Wikipedia hay una tabla para cada continente, por lo que hay que repetir esto para cada uno de ellos.\n",
    "\n",
    "Y por último hay que unificar todo en un único dataframe con la función uniFrame()."
   ]
  },
  {
   "cell_type": "code",
   "execution_count": 3,
   "metadata": {},
   "outputs": [],
   "source": [
    "urlWikiSunny='https://en.wikipedia.org/wiki/List_of_cities_by_sunshine_duration'"
   ]
  },
  {
   "cell_type": "code",
   "execution_count": 4,
   "metadata": {},
   "outputs": [
    {
     "data": {
      "text/html": [
       "<div>\n",
       "<style scoped>\n",
       "    .dataframe tbody tr th:only-of-type {\n",
       "        vertical-align: middle;\n",
       "    }\n",
       "\n",
       "    .dataframe tbody tr th {\n",
       "        vertical-align: top;\n",
       "    }\n",
       "\n",
       "    .dataframe thead th {\n",
       "        text-align: right;\n",
       "    }\n",
       "</style>\n",
       "<table border=\"1\" class=\"dataframe\">\n",
       "  <thead>\n",
       "    <tr style=\"text-align: right;\">\n",
       "      <th></th>\n",
       "      <th>country</th>\n",
       "      <th>city</th>\n",
       "      <th>jan</th>\n",
       "      <th>feb</th>\n",
       "      <th>mar</th>\n",
       "      <th>apr</th>\n",
       "      <th>may</th>\n",
       "      <th>jun</th>\n",
       "      <th>jul</th>\n",
       "      <th>ago</th>\n",
       "      <th>sep</th>\n",
       "      <th>oct</th>\n",
       "      <th>nov</th>\n",
       "      <th>dic</th>\n",
       "    </tr>\n",
       "  </thead>\n",
       "  <tbody>\n",
       "    <tr>\n",
       "      <th>0</th>\n",
       "      <td>Afghanistan</td>\n",
       "      <td>Kabul</td>\n",
       "      <td>177.2</td>\n",
       "      <td>178.6</td>\n",
       "      <td>204.5</td>\n",
       "      <td>232.5</td>\n",
       "      <td>310.3</td>\n",
       "      <td>353.4</td>\n",
       "      <td>356.8</td>\n",
       "      <td>339.7</td>\n",
       "      <td>303.9</td>\n",
       "      <td>282.6</td>\n",
       "      <td>253.2</td>\n",
       "      <td>182.4</td>\n",
       "    </tr>\n",
       "    <tr>\n",
       "      <th>1</th>\n",
       "      <td>Albania</td>\n",
       "      <td>Tirana</td>\n",
       "      <td>124.0</td>\n",
       "      <td>125.0</td>\n",
       "      <td>165.0</td>\n",
       "      <td>191.0</td>\n",
       "      <td>263.0</td>\n",
       "      <td>298.0</td>\n",
       "      <td>354.0</td>\n",
       "      <td>327.0</td>\n",
       "      <td>264.0</td>\n",
       "      <td>218.0</td>\n",
       "      <td>127.0</td>\n",
       "      <td>88.0</td>\n",
       "    </tr>\n",
       "    <tr>\n",
       "      <th>2</th>\n",
       "      <td>Algeria</td>\n",
       "      <td>Algiers</td>\n",
       "      <td>149.0</td>\n",
       "      <td>165.0</td>\n",
       "      <td>202.0</td>\n",
       "      <td>258.0</td>\n",
       "      <td>319.0</td>\n",
       "      <td>318.0</td>\n",
       "      <td>350.0</td>\n",
       "      <td>319.0</td>\n",
       "      <td>237.0</td>\n",
       "      <td>229.0</td>\n",
       "      <td>165.0</td>\n",
       "      <td>136.0</td>\n",
       "    </tr>\n",
       "    <tr>\n",
       "      <th>3</th>\n",
       "      <td>Algeria</td>\n",
       "      <td>Tamanrasset</td>\n",
       "      <td>297.6</td>\n",
       "      <td>275.5</td>\n",
       "      <td>322.4</td>\n",
       "      <td>327.0</td>\n",
       "      <td>328.6</td>\n",
       "      <td>306.0</td>\n",
       "      <td>356.5</td>\n",
       "      <td>331.7</td>\n",
       "      <td>288.0</td>\n",
       "      <td>310.0</td>\n",
       "      <td>285.0</td>\n",
       "      <td>272.8</td>\n",
       "    </tr>\n",
       "    <tr>\n",
       "      <th>4</th>\n",
       "      <td>Angola</td>\n",
       "      <td>Luanda</td>\n",
       "      <td>219.0</td>\n",
       "      <td>208.0</td>\n",
       "      <td>213.0</td>\n",
       "      <td>199.0</td>\n",
       "      <td>233.0</td>\n",
       "      <td>223.0</td>\n",
       "      <td>175.0</td>\n",
       "      <td>150.0</td>\n",
       "      <td>145.0</td>\n",
       "      <td>164.0</td>\n",
       "      <td>199.0</td>\n",
       "      <td>212.0</td>\n",
       "    </tr>\n",
       "  </tbody>\n",
       "</table>\n",
       "</div>"
      ],
      "text/plain": [
       "       country         city    jan    feb    mar    apr    may    jun    jul  \\\n",
       "0  Afghanistan        Kabul  177.2  178.6  204.5  232.5  310.3  353.4  356.8   \n",
       "1      Albania       Tirana  124.0  125.0  165.0  191.0  263.0  298.0  354.0   \n",
       "2      Algeria      Algiers  149.0  165.0  202.0  258.0  319.0  318.0  350.0   \n",
       "3      Algeria  Tamanrasset  297.6  275.5  322.4  327.0  328.6  306.0  356.5   \n",
       "4       Angola       Luanda  219.0  208.0  213.0  199.0  233.0  223.0  175.0   \n",
       "\n",
       "     ago    sep    oct    nov    dic  \n",
       "0  339.7  303.9  282.6  253.2  182.4  \n",
       "1  327.0  264.0  218.0  127.0   88.0  \n",
       "2  319.0  237.0  229.0  165.0  136.0  \n",
       "3  331.7  288.0  310.0  285.0  272.8  \n",
       "4  150.0  145.0  164.0  199.0  212.0  "
      ]
     },
     "metadata": {},
     "output_type": "display_data"
    }
   ],
   "source": [
    "sunnyHours_dict_global= fn.dictHours(urlWikiSunny)\n",
    "df_global_index = fn.uniFrame(sunnyHours_dict_global)\n",
    "display(df_global_index.head())"
   ]
  },
  {
   "cell_type": "markdown",
   "metadata": {},
   "source": [
    "Como en el data set no tenemos indicadas las capitales, también crearé un dataframe llamando a la función capitalAPI() que me permita enlazar la información del dataset origen con el dataframe de horas de luz. Esta vez utilizaré la siguiente API: https://restcountries.eu/#api-endpoints-capital-city\n",
    "\n",
    "En una comprobación posterior se muestran muchos valores nulos para la columna capital debido a que los nombres de los países no están estandarizados. Reemplazamos los nombres de aquellos países que generan problema -->dentro de la función que genera el df_capital."
   ]
  },
  {
   "cell_type": "code",
   "execution_count": 5,
   "metadata": {},
   "outputs": [
    {
     "data": {
      "text/html": [
       "<div>\n",
       "<style scoped>\n",
       "    .dataframe tbody tr th:only-of-type {\n",
       "        vertical-align: middle;\n",
       "    }\n",
       "\n",
       "    .dataframe tbody tr th {\n",
       "        vertical-align: top;\n",
       "    }\n",
       "\n",
       "    .dataframe thead th {\n",
       "        text-align: right;\n",
       "    }\n",
       "</style>\n",
       "<table border=\"1\" class=\"dataframe\">\n",
       "  <thead>\n",
       "    <tr style=\"text-align: right;\">\n",
       "      <th></th>\n",
       "      <th>country</th>\n",
       "      <th>capital</th>\n",
       "    </tr>\n",
       "  </thead>\n",
       "  <tbody>\n",
       "    <tr>\n",
       "      <th>0</th>\n",
       "      <td>Afghanistan</td>\n",
       "      <td>Kabul</td>\n",
       "    </tr>\n",
       "    <tr>\n",
       "      <th>1</th>\n",
       "      <td>Åland Islands</td>\n",
       "      <td>Mariehamn</td>\n",
       "    </tr>\n",
       "    <tr>\n",
       "      <th>2</th>\n",
       "      <td>Albania</td>\n",
       "      <td>Tirana</td>\n",
       "    </tr>\n",
       "    <tr>\n",
       "      <th>3</th>\n",
       "      <td>Algeria</td>\n",
       "      <td>Algiers</td>\n",
       "    </tr>\n",
       "    <tr>\n",
       "      <th>4</th>\n",
       "      <td>American Samoa</td>\n",
       "      <td>Pago Pago</td>\n",
       "    </tr>\n",
       "  </tbody>\n",
       "</table>\n",
       "</div>"
      ],
      "text/plain": [
       "          country    capital\n",
       "0     Afghanistan      Kabul\n",
       "1   Åland Islands  Mariehamn\n",
       "2         Albania     Tirana\n",
       "3         Algeria    Algiers\n",
       "4  American Samoa  Pago Pago"
      ]
     },
     "metadata": {},
     "output_type": "display_data"
    }
   ],
   "source": [
    "df_capital = fn.capitalAPI(\"https://restcountries.eu/rest/v2/all?fields=name;capital\")\n",
    "display(df_capital.head())"
   ]
  },
  {
   "cell_type": "markdown",
   "metadata": {},
   "source": [
    "Llamo a la función mergeOrigenCapital() para unificar la tabla origen 'df' y  'df_capital'\n",
    "\n",
    "Analizo también el volumen de valores nulos que hay en la columna 'capital' tras cruzar la información. Inicialmente salían en torno a 1400. He reeemplazado los nombre que generaban este problema en la función que gerenra df_capital.\n",
    "\n",
    "Compruebo desde esta función que países siguen mostrando valores nulos (nullPerColumns()) -->sale Macau, y se eliminan las líneas correspondientes porque este país no existe en df_capital.\n"
   ]
  },
  {
   "cell_type": "code",
   "execution_count": 6,
   "metadata": {},
   "outputs": [],
   "source": [
    "df_notNulls=fn.mergeOrigenCapital (df,df_capital)\n"
   ]
  },
  {
   "cell_type": "markdown",
   "metadata": {},
   "source": [
    "Con la función mergeNotNullsGlobalIndex(), uno df_global_index y df_notNulls.\n",
    "\n",
    "Dentro de la función renombro la columna 'city' como 'capital' para poder hacer merge de los dos dataframes.\n",
    "\n",
    "Al unirlos encontré que muchas capitales no enlazaban con los datos de Wikipedia. Lo revisé con la función nullPerColumns() e incluí los cambios en la función que genera el df_capital.\n",
    "\n",
    "Los países son: Canada (Ottawa por Toronto), Iceland, Israel (Jerusalem por Tel Aviv), Mongolia( Ulan Bator por Ulaanbaatar), Switzerland (Bern por Zurich), United Arab Emirates (Abu Dhabi por Dubai).\n",
    "\n",
    "Se eliminan las líneas del resto de países para los que no existe información sobre las horas de luz al mes.\n",
    "\n",
    "Limpio nombres de columnas, añado una nueva columna 'total' que es la suma anual de horas de luz y las reorganizo para el analisis. \n",
    "\n",
    "La función devuelve df_defenitive.\n"
   ]
  },
  {
   "cell_type": "code",
   "execution_count": 7,
   "metadata": {},
   "outputs": [
    {
     "data": {
      "text/html": [
       "<div>\n",
       "<style scoped>\n",
       "    .dataframe tbody tr th:only-of-type {\n",
       "        vertical-align: middle;\n",
       "    }\n",
       "\n",
       "    .dataframe tbody tr th {\n",
       "        vertical-align: top;\n",
       "    }\n",
       "\n",
       "    .dataframe thead th {\n",
       "        text-align: right;\n",
       "    }\n",
       "</style>\n",
       "<table border=\"1\" class=\"dataframe\">\n",
       "  <thead>\n",
       "    <tr style=\"text-align: right;\">\n",
       "      <th></th>\n",
       "      <th>country</th>\n",
       "      <th>year</th>\n",
       "      <th>total</th>\n",
       "      <th>sex</th>\n",
       "      <th>suicides_no</th>\n",
       "      <th>population</th>\n",
       "    </tr>\n",
       "  </thead>\n",
       "  <tbody>\n",
       "    <tr>\n",
       "      <th>0</th>\n",
       "      <td>Albania</td>\n",
       "      <td>1987</td>\n",
       "      <td>2544.0</td>\n",
       "      <td>male</td>\n",
       "      <td>21</td>\n",
       "      <td>312900</td>\n",
       "    </tr>\n",
       "    <tr>\n",
       "      <th>1</th>\n",
       "      <td>Albania</td>\n",
       "      <td>1987</td>\n",
       "      <td>2544.0</td>\n",
       "      <td>male</td>\n",
       "      <td>16</td>\n",
       "      <td>308000</td>\n",
       "    </tr>\n",
       "    <tr>\n",
       "      <th>2</th>\n",
       "      <td>Albania</td>\n",
       "      <td>1987</td>\n",
       "      <td>2544.0</td>\n",
       "      <td>female</td>\n",
       "      <td>14</td>\n",
       "      <td>289700</td>\n",
       "    </tr>\n",
       "    <tr>\n",
       "      <th>3</th>\n",
       "      <td>Albania</td>\n",
       "      <td>1987</td>\n",
       "      <td>2544.0</td>\n",
       "      <td>male</td>\n",
       "      <td>1</td>\n",
       "      <td>21800</td>\n",
       "    </tr>\n",
       "    <tr>\n",
       "      <th>4</th>\n",
       "      <td>Albania</td>\n",
       "      <td>1987</td>\n",
       "      <td>2544.0</td>\n",
       "      <td>male</td>\n",
       "      <td>9</td>\n",
       "      <td>274300</td>\n",
       "    </tr>\n",
       "    <tr>\n",
       "      <th>...</th>\n",
       "      <td>...</td>\n",
       "      <td>...</td>\n",
       "      <td>...</td>\n",
       "      <td>...</td>\n",
       "      <td>...</td>\n",
       "      <td>...</td>\n",
       "    </tr>\n",
       "    <tr>\n",
       "      <th>20441</th>\n",
       "      <td>Uzbekistan</td>\n",
       "      <td>2014</td>\n",
       "      <td>2823.9</td>\n",
       "      <td>female</td>\n",
       "      <td>107</td>\n",
       "      <td>3620833</td>\n",
       "    </tr>\n",
       "    <tr>\n",
       "      <th>20442</th>\n",
       "      <td>Uzbekistan</td>\n",
       "      <td>2014</td>\n",
       "      <td>2823.9</td>\n",
       "      <td>female</td>\n",
       "      <td>9</td>\n",
       "      <td>348465</td>\n",
       "    </tr>\n",
       "    <tr>\n",
       "      <th>20443</th>\n",
       "      <td>Uzbekistan</td>\n",
       "      <td>2014</td>\n",
       "      <td>2823.9</td>\n",
       "      <td>male</td>\n",
       "      <td>60</td>\n",
       "      <td>2762158</td>\n",
       "    </tr>\n",
       "    <tr>\n",
       "      <th>20444</th>\n",
       "      <td>Uzbekistan</td>\n",
       "      <td>2014</td>\n",
       "      <td>2823.9</td>\n",
       "      <td>female</td>\n",
       "      <td>44</td>\n",
       "      <td>2631600</td>\n",
       "    </tr>\n",
       "    <tr>\n",
       "      <th>20445</th>\n",
       "      <td>Uzbekistan</td>\n",
       "      <td>2014</td>\n",
       "      <td>2823.9</td>\n",
       "      <td>female</td>\n",
       "      <td>21</td>\n",
       "      <td>1438935</td>\n",
       "    </tr>\n",
       "  </tbody>\n",
       "</table>\n",
       "<p>20446 rows × 6 columns</p>\n",
       "</div>"
      ],
      "text/plain": [
       "          country  year   total     sex  suicides_no  population\n",
       "0         Albania  1987  2544.0    male           21      312900\n",
       "1         Albania  1987  2544.0    male           16      308000\n",
       "2         Albania  1987  2544.0  female           14      289700\n",
       "3         Albania  1987  2544.0    male            1       21800\n",
       "4         Albania  1987  2544.0    male            9      274300\n",
       "...           ...   ...     ...     ...          ...         ...\n",
       "20441  Uzbekistan  2014  2823.9  female          107     3620833\n",
       "20442  Uzbekistan  2014  2823.9  female            9      348465\n",
       "20443  Uzbekistan  2014  2823.9    male           60     2762158\n",
       "20444  Uzbekistan  2014  2823.9  female           44     2631600\n",
       "20445  Uzbekistan  2014  2823.9  female           21     1438935\n",
       "\n",
       "[20446 rows x 6 columns]"
      ]
     },
     "metadata": {},
     "output_type": "display_data"
    }
   ],
   "source": [
    "df_definitive=fn.generaDefinitives(df_global_index, df_notNulls)\n",
    "\n",
    "fn.exportCSV('./output/df_definitive.csv',df_definitive )\n",
    "\n",
    "display(df_definitive)"
   ]
  },
  {
   "cell_type": "markdown",
   "metadata": {},
   "source": [
    "Genero a continuación los dos dataframes que me permitirán devolver un resultado en función de los parámetros introducidos."
   ]
  },
  {
   "cell_type": "code",
   "execution_count": 8,
   "metadata": {},
   "outputs": [
    {
     "data": {
      "text/html": [
       "<div>\n",
       "<style scoped>\n",
       "    .dataframe tbody tr th:only-of-type {\n",
       "        vertical-align: middle;\n",
       "    }\n",
       "\n",
       "    .dataframe tbody tr th {\n",
       "        vertical-align: top;\n",
       "    }\n",
       "\n",
       "    .dataframe thead th {\n",
       "        text-align: right;\n",
       "    }\n",
       "</style>\n",
       "<table border=\"1\" class=\"dataframe\">\n",
       "  <thead>\n",
       "    <tr style=\"text-align: right;\">\n",
       "      <th></th>\n",
       "      <th>country</th>\n",
       "      <th>year</th>\n",
       "      <th>suicides_no</th>\n",
       "      <th>population</th>\n",
       "      <th>total</th>\n",
       "      <th>ratio</th>\n",
       "    </tr>\n",
       "  </thead>\n",
       "  <tbody>\n",
       "    <tr>\n",
       "      <th>0</th>\n",
       "      <td>Albania</td>\n",
       "      <td>1987</td>\n",
       "      <td>73</td>\n",
       "      <td>2709600</td>\n",
       "      <td>2544.0</td>\n",
       "      <td>269.412459</td>\n",
       "    </tr>\n",
       "    <tr>\n",
       "      <th>1</th>\n",
       "      <td>Albania</td>\n",
       "      <td>1988</td>\n",
       "      <td>63</td>\n",
       "      <td>2764300</td>\n",
       "      <td>2544.0</td>\n",
       "      <td>227.905799</td>\n",
       "    </tr>\n",
       "    <tr>\n",
       "      <th>2</th>\n",
       "      <td>Albania</td>\n",
       "      <td>1989</td>\n",
       "      <td>68</td>\n",
       "      <td>2803100</td>\n",
       "      <td>2544.0</td>\n",
       "      <td>242.588563</td>\n",
       "    </tr>\n",
       "    <tr>\n",
       "      <th>3</th>\n",
       "      <td>Albania</td>\n",
       "      <td>1992</td>\n",
       "      <td>47</td>\n",
       "      <td>2822500</td>\n",
       "      <td>2544.0</td>\n",
       "      <td>166.519043</td>\n",
       "    </tr>\n",
       "    <tr>\n",
       "      <th>4</th>\n",
       "      <td>Albania</td>\n",
       "      <td>1993</td>\n",
       "      <td>73</td>\n",
       "      <td>2807300</td>\n",
       "      <td>2544.0</td>\n",
       "      <td>260.036334</td>\n",
       "    </tr>\n",
       "  </tbody>\n",
       "</table>\n",
       "</div>"
      ],
      "text/plain": [
       "   country  year  suicides_no  population   total       ratio\n",
       "0  Albania  1987           73     2709600  2544.0  269.412459\n",
       "1  Albania  1988           63     2764300  2544.0  227.905799\n",
       "2  Albania  1989           68     2803100  2544.0  242.588563\n",
       "3  Albania  1992           47     2822500  2544.0  166.519043\n",
       "4  Albania  1993           73     2807300  2544.0  260.036334"
      ]
     },
     "metadata": {},
     "output_type": "display_data"
    },
    {
     "data": {
      "text/html": [
       "<div>\n",
       "<style scoped>\n",
       "    .dataframe tbody tr th:only-of-type {\n",
       "        vertical-align: middle;\n",
       "    }\n",
       "\n",
       "    .dataframe tbody tr th {\n",
       "        vertical-align: top;\n",
       "    }\n",
       "\n",
       "    .dataframe thead th {\n",
       "        text-align: right;\n",
       "    }\n",
       "</style>\n",
       "<table border=\"1\" class=\"dataframe\">\n",
       "  <thead>\n",
       "    <tr style=\"text-align: right;\">\n",
       "      <th></th>\n",
       "      <th>country</th>\n",
       "      <th>year</th>\n",
       "      <th>sex</th>\n",
       "      <th>suicides_no</th>\n",
       "      <th>population</th>\n",
       "    </tr>\n",
       "  </thead>\n",
       "  <tbody>\n",
       "    <tr>\n",
       "      <th>0</th>\n",
       "      <td>Albania</td>\n",
       "      <td>1987</td>\n",
       "      <td>female</td>\n",
       "      <td>25</td>\n",
       "      <td>1316900</td>\n",
       "    </tr>\n",
       "    <tr>\n",
       "      <th>1</th>\n",
       "      <td>Albania</td>\n",
       "      <td>1987</td>\n",
       "      <td>male</td>\n",
       "      <td>48</td>\n",
       "      <td>1392700</td>\n",
       "    </tr>\n",
       "    <tr>\n",
       "      <th>2</th>\n",
       "      <td>Albania</td>\n",
       "      <td>1988</td>\n",
       "      <td>female</td>\n",
       "      <td>22</td>\n",
       "      <td>1343600</td>\n",
       "    </tr>\n",
       "    <tr>\n",
       "      <th>3</th>\n",
       "      <td>Albania</td>\n",
       "      <td>1988</td>\n",
       "      <td>male</td>\n",
       "      <td>41</td>\n",
       "      <td>1420700</td>\n",
       "    </tr>\n",
       "    <tr>\n",
       "      <th>4</th>\n",
       "      <td>Albania</td>\n",
       "      <td>1989</td>\n",
       "      <td>female</td>\n",
       "      <td>15</td>\n",
       "      <td>1363300</td>\n",
       "    </tr>\n",
       "  </tbody>\n",
       "</table>\n",
       "</div>"
      ],
      "text/plain": [
       "   country  year     sex  suicides_no  population\n",
       "0  Albania  1987  female           25     1316900\n",
       "1  Albania  1987    male           48     1392700\n",
       "2  Albania  1988  female           22     1343600\n",
       "3  Albania  1988    male           41     1420700\n",
       "4  Albania  1989  female           15     1363300"
      ]
     },
     "metadata": {},
     "output_type": "display_data"
    }
   ],
   "source": [
    "df_countryYearTotal = fn.completNoSex(df_definitive)\n",
    "df_countryYearSex = fn.tabSex(df_definitive)\n",
    "\n",
    "display(df_countryYearTotal.head())\n",
    "display(df_countryYearSex.head())"
   ]
  },
  {
   "cell_type": "markdown",
   "metadata": {},
   "source": [
    "# Analisis de datos"
   ]
  },
  {
   "cell_type": "code",
   "execution_count": 9,
   "metadata": {},
   "outputs": [
    {
     "data": {
      "image/png": "[encoded data removed]",
      "text/plain": [
       "<Figure size 432x288 with 1 Axes>"
      ]
     },
     "metadata": {},
     "output_type": "display_data"
    },
    {
     "data": {
      "image/png": "[encoded data removed]",
      "text/plain": [
       "<Figure size 432x288 with 1 Axes>"
      ]
     },
     "metadata": {},
     "output_type": "display_data"
    }
   ],
   "source": [
    "country1= 'Argentina'\n",
    "country2= 'Spain'\n",
    "year= 2013\n",
    "colores1=['royalblue','lightsteelblue']\n",
    "colores2=['royalblue','lightsteelblue']\n",
    "\n",
    "gr.generaGraf(country1,year,colores1)\n",
    "plt.show() \n",
    "\n",
    "gr.generaGraf(country2,year,colores2)\n",
    "plt.show()\n"
   ]
  },
  {
   "cell_type": "markdown",
   "metadata": {},
   "source": [
    "Total de personas por país en ese año"
   ]
  },
  {
   "cell_type": "code",
   "execution_count": 10,
   "metadata": {},
   "outputs": [
    {
     "data": {
      "text/plain": [
       "<Figure size 432x288 with 0 Axes>"
      ]
     },
     "metadata": {},
     "output_type": "display_data"
    },
    {
     "data": {
      "image/png": "[encoded data removed]",
      "text/plain": [
       "<Figure size 432x288 with 1 Axes>"
      ]
     },
     "metadata": {
      "needs_background": "light"
     },
     "output_type": "display_data"
    }
   ],
   "source": [
    "gr.generaBarr(country1,country2,year)"
   ]
  },
  {
   "cell_type": "code",
   "execution_count": 11,
   "metadata": {},
   "outputs": [
    {
     "data": {
      "text/html": [
       "<div>\n",
       "<style scoped>\n",
       "    .dataframe tbody tr th:only-of-type {\n",
       "        vertical-align: middle;\n",
       "    }\n",
       "\n",
       "    .dataframe tbody tr th {\n",
       "        vertical-align: top;\n",
       "    }\n",
       "\n",
       "    .dataframe thead th {\n",
       "        text-align: right;\n",
       "    }\n",
       "</style>\n",
       "<table border=\"1\" class=\"dataframe\">\n",
       "  <thead>\n",
       "    <tr style=\"text-align: right;\">\n",
       "      <th></th>\n",
       "      <th>total</th>\n",
       "      <th>ratio</th>\n",
       "    </tr>\n",
       "    <tr>\n",
       "      <th>country</th>\n",
       "      <th></th>\n",
       "      <th></th>\n",
       "    </tr>\n",
       "  </thead>\n",
       "  <tbody>\n",
       "    <tr>\n",
       "      <th>Oman</th>\n",
       "      <td>10479.9</td>\n",
       "      <td>116.432722</td>\n",
       "    </tr>\n",
       "    <tr>\n",
       "      <th>Bosnia and Herzegovina</th>\n",
       "      <td>3540.0</td>\n",
       "      <td>870.167590</td>\n",
       "    </tr>\n",
       "    <tr>\n",
       "      <th>United Arab Emirates</th>\n",
       "      <td>21052.2</td>\n",
       "      <td>1050.559316</td>\n",
       "    </tr>\n",
       "    <tr>\n",
       "      <th>Turkey</th>\n",
       "      <td>17147.2</td>\n",
       "      <td>1465.796129</td>\n",
       "    </tr>\n",
       "    <tr>\n",
       "      <th>South Africa</th>\n",
       "      <td>64412.0</td>\n",
       "      <td>1645.028512</td>\n",
       "    </tr>\n",
       "    <tr>\n",
       "      <th>...</th>\n",
       "      <td>...</td>\n",
       "      <td>...</td>\n",
       "    </tr>\n",
       "    <tr>\n",
       "      <th>Finland</th>\n",
       "      <td>53882.0</td>\n",
       "      <td>69308.512238</td>\n",
       "    </tr>\n",
       "    <tr>\n",
       "      <th>Kazakhstan</th>\n",
       "      <td>65182.0</td>\n",
       "      <td>70305.463233</td>\n",
       "    </tr>\n",
       "    <tr>\n",
       "      <th>Hungary</th>\n",
       "      <td>50128.0</td>\n",
       "      <td>77003.092003</td>\n",
       "    </tr>\n",
       "    <tr>\n",
       "      <th>Russian Federation</th>\n",
       "      <td>51327.0</td>\n",
       "      <td>88297.406294</td>\n",
       "    </tr>\n",
       "    <tr>\n",
       "      <th>Lithuania</th>\n",
       "      <td>37202.0</td>\n",
       "      <td>89619.714930</td>\n",
       "    </tr>\n",
       "  </tbody>\n",
       "</table>\n",
       "<p>70 rows × 2 columns</p>\n",
       "</div>"
      ],
      "text/plain": [
       "                          total         ratio\n",
       "country                                      \n",
       "Oman                    10479.9    116.432722\n",
       "Bosnia and Herzegovina   3540.0    870.167590\n",
       "United Arab Emirates    21052.2   1050.559316\n",
       "Turkey                  17147.2   1465.796129\n",
       "South Africa            64412.0   1645.028512\n",
       "...                         ...           ...\n",
       "Finland                 53882.0  69308.512238\n",
       "Kazakhstan              65182.0  70305.463233\n",
       "Hungary                 50128.0  77003.092003\n",
       "Russian Federation      51327.0  88297.406294\n",
       "Lithuania               37202.0  89619.714930\n",
       "\n",
       "[70 rows x 2 columns]"
      ]
     },
     "metadata": {},
     "output_type": "display_data"
    },
    {
     "data": {
      "image/png": "[encoded data removed]",
      "text/plain": [
       "<Figure size 432x288 with 1 Axes>"
      ]
     },
     "metadata": {
      "needs_background": "light"
     },
     "output_type": "display_data"
    }
   ],
   "source": [
    "\n",
    "\n",
    "q =(df_countryYearTotal.groupby(\"country\").agg({\n",
    "        \"total\":\"sum\", \n",
    "        \"ratio\":\"sum\"\n",
    "}).sort_values(by=['ratio']))\n",
    "\n",
    "graf_ratio=q.plot.bar()\n",
    "graf_ratio_title=plt.title(f'TOTAL DE HORAS DE LUZ EN {year} VS RATIO ')\n",
    "\n",
    "display(q)"
   ]
  },
  {
   "cell_type": "code",
   "execution_count": null,
   "metadata": {},
   "outputs": [],
   "source": []
  },
  {
   "cell_type": "markdown",
   "metadata": {},
   "source": [
    "Añado una columna para valorar el % de suicidos por país según la población. Para que en el gráfico se vea la comparación entre ratios y total de horas anual por país, multiplico el ratio por 10^5.\n"
   ]
  },
  {
   "cell_type": "code",
   "execution_count": 12,
   "metadata": {},
   "outputs": [
    {
     "ename": "NameError",
     "evalue": "name 'df_2014' is not defined",
     "output_type": "error",
     "traceback": [
      "\u001b[0;31m---------------------------------------------------------------------------\u001b[0m",
      "\u001b[0;31mNameError\u001b[0m                                 Traceback (most recent call last)",
      "\u001b[0;32m<ipython-input-12-8c7b9c38a946>\u001b[0m in \u001b[0;36m<module>\u001b[0;34m\u001b[0m\n\u001b[0;32m----> 1\u001b[0;31m \u001b[0mdf_2014_resto\u001b[0m\u001b[0;34m=\u001b[0m\u001b[0mdf_2014\u001b[0m\u001b[0;34m[\u001b[0m\u001b[0;34m[\u001b[0m\u001b[0;34m'country'\u001b[0m\u001b[0;34m,\u001b[0m\u001b[0;34m'sex'\u001b[0m\u001b[0;34m,\u001b[0m\u001b[0;34m'suicides_no'\u001b[0m\u001b[0;34m,\u001b[0m \u001b[0;34m'population'\u001b[0m\u001b[0;34m]\u001b[0m\u001b[0;34m]\u001b[0m\u001b[0;34m\u001b[0m\u001b[0;34m\u001b[0m\u001b[0m\n\u001b[0m\u001b[1;32m      2\u001b[0m \u001b[0mdf_2014_agg\u001b[0m\u001b[0;34m=\u001b[0m\u001b[0mdf_2014_resto\u001b[0m\u001b[0;34m.\u001b[0m\u001b[0mgroupby\u001b[0m\u001b[0;34m(\u001b[0m\u001b[0mby\u001b[0m\u001b[0;34m=\u001b[0m\u001b[0;34m[\u001b[0m\u001b[0;34m'country'\u001b[0m\u001b[0;34m]\u001b[0m\u001b[0;34m)\u001b[0m\u001b[0;34m.\u001b[0m\u001b[0msum\u001b[0m\u001b[0;34m(\u001b[0m\u001b[0;34m)\u001b[0m\u001b[0;34m\u001b[0m\u001b[0;34m\u001b[0m\u001b[0m\n\u001b[1;32m      3\u001b[0m \u001b[0mdf_2014_agg\u001b[0m\u001b[0;34m[\u001b[0m\u001b[0;34m'ratio'\u001b[0m\u001b[0;34m]\u001b[0m\u001b[0;34m=\u001b[0m\u001b[0;34m(\u001b[0m\u001b[0;34m(\u001b[0m\u001b[0mdf_2014_agg\u001b[0m\u001b[0;34m[\u001b[0m\u001b[0;34m'suicides_no'\u001b[0m\u001b[0;34m]\u001b[0m\u001b[0;34m/\u001b[0m\u001b[0mdf_2014_agg\u001b[0m\u001b[0;34m[\u001b[0m\u001b[0;34m'population'\u001b[0m\u001b[0;34m]\u001b[0m\u001b[0;34m)\u001b[0m\u001b[0;34m*\u001b[0m\u001b[0;36m100\u001b[0m\u001b[0;34m)\u001b[0m\u001b[0;34m*\u001b[0m\u001b[0;36m100000\u001b[0m\u001b[0;34m\u001b[0m\u001b[0;34m\u001b[0m\u001b[0m\n\u001b[1;32m      4\u001b[0m \u001b[0;34m\u001b[0m\u001b[0m\n\u001b[1;32m      5\u001b[0m \u001b[0mdf_2014_merge\u001b[0m\u001b[0;34m=\u001b[0m\u001b[0mpd\u001b[0m\u001b[0;34m.\u001b[0m\u001b[0mmerge\u001b[0m\u001b[0;34m(\u001b[0m\u001b[0mdf_2014_agg\u001b[0m\u001b[0;34m,\u001b[0m \u001b[0mdf_2014_total\u001b[0m\u001b[0;34m,\u001b[0m \u001b[0mhow\u001b[0m\u001b[0;34m=\u001b[0m\u001b[0;34m'left'\u001b[0m\u001b[0;34m,\u001b[0m\u001b[0mon\u001b[0m\u001b[0;34m=\u001b[0m\u001b[0;34m'country'\u001b[0m\u001b[0;34m)\u001b[0m\u001b[0;34m\u001b[0m\u001b[0;34m\u001b[0m\u001b[0m\n",
      "\u001b[0;31mNameError\u001b[0m: name 'df_2014' is not defined"
     ]
    }
   ],
   "source": [
    "df_2014_resto=df_2014[['country','sex','suicides_no', 'population']]\n",
    "df_2014_agg=df_2014_resto.groupby(by=['country']).sum()\n",
    "df_2014_agg['ratio']=((df_2014_agg['suicides_no']/df_2014_agg['population'])*100)*100000\n",
    "\n",
    "df_2014_merge=pd.merge(df_2014_agg, df_2014_total, how='left',on='country')\n",
    "df_2014_merge.sort_values(by=['ratio'], ascending=False)"
   ]
  },
  {
   "cell_type": "code",
   "execution_count": null,
   "metadata": {},
   "outputs": [],
   "source": []
  },
  {
   "cell_type": "markdown",
   "metadata": {},
   "source": [
    "Valor máximo y mínimo de ratios."
   ]
  },
  {
   "cell_type": "code",
   "execution_count": null,
   "metadata": {},
   "outputs": [],
   "source": [
    "max_ratio = df_2014_merge.loc[df_2014_merge['ratio'].idxmax()]\n",
    "min_ratio = df_2014_merge.loc[df_2014_merge['ratio'].idxmin()]\n",
    "display(max_ratio)\n",
    "display(min_ratio)\n",
    "\n",
    "#df_2014_merge[df_2014_merge['ratio']==df_2014_merge['ratio'].min()]"
   ]
  },
  {
   "cell_type": "code",
   "execution_count": null,
   "metadata": {},
   "outputs": [],
   "source": [
    "max_sunny = df_2014_merge.loc[df_2014_merge['total'].idxmax()]\n",
    "min_sunny = df_2014_merge.loc[df_2014_merge['total'].idxmin()]\n",
    "display(max_sunny)\n",
    "display(min_sunny)"
   ]
  },
  {
   "cell_type": "code",
   "execution_count": null,
   "metadata": {},
   "outputs": [],
   "source": []
  },
  {
   "cell_type": "code",
   "execution_count": null,
   "metadata": {},
   "outputs": [],
   "source": []
  }
 ],
 "metadata": {
  "kernelspec": {
   "display_name": "Python 3",
   "language": "python",
   "name": "python3"
  },
  "language_info": {
   "codemirror_mode": {
    "name": "ipython",
    "version": 3
   },
   "file_extension": ".py",
   "mimetype": "text/x-python",
   "name": "python",
   "nbconvert_exporter": "python",
   "pygments_lexer": "ipython3",
   "version": "3.7.6"
  }
 },
 "nbformat": 4,
 "nbformat_minor": 2
}
